{
 "cells": [
  {
   "cell_type": "code",
   "execution_count": 6,
   "id": "22c63f0c",
   "metadata": {},
   "outputs": [],
   "source": [
    "import pandas as pd\n",
    "import numpy as np\n",
    "import matplotlib.pyplot as plt\n",
    "import sklearn\n",
    "import requests\n",
    "import re\n",
    "from bs4 import BeautifulSoup\n",
    "import json\n",
    "import time\n",
    "import random\n",
    "import datetime\n",
    "from threading import Timer"
   ]
  },
  {
   "cell_type": "code",
   "execution_count": 9,
   "id": "e7c4024e",
   "metadata": {},
   "outputs": [],
   "source": [
    "def search(goods_id):\n",
    "    url = \"https://buff.163.com/api/market/goods/sell_order?game=csgo&goods_id=\"+goods_id+\"&page_num=1&sort_by=default&mode=&allow_tradable_cooldown=1\"\n",
    "    headers={}\n",
    "    html = requests.get(url,headers = headers).text\n",
    "    return html\n",
    "\n",
    "volumes = {}\n",
    "num = len(ak_goods)+len(a4_goods)+len(a1_goods)+len(awp_goods)+len(boxs)\n",
    "for i in range(num):\n",
    "    if(i<len(ak_goods)):\n",
    "        volumes[ak_goods[i]] = []\n",
    "    elif(i<len(ak_goods)+len(a4_goods)):\n",
    "        volumes[a4_goods[i-len(ak_goods)]] = []\n",
    "    elif(i<len(ak_goods)+len(a4_goods)+len(awp_goods)):\n",
    "        volumes[awp_goods[i-len(ak_goods)-len(a4_goods)]] = []\n",
    "    elif(i<len(ak_goods)+len(a4_goods)+len(awp_goods)+len(boxs)):\n",
    "        volumes[boxs[i-len(ak_goods)-len(a4_goods)-len(awp_goods)]] = []\n",
    "def search_volume(market_name,itemid):\n",
    "    #判断有无历史的查询\n",
    "    if(len(volumes['itemid']) == 0):\n",
    "        has_volume = True\n",
    "    else:\n",
    "        has_volume = False\n",
    "    url = \"https://steamcommunity.com/market/priceoverview/?country=JP&currency=8&appid=730&market_hash_name=\"+market_name\n",
    "    html = requests.get(url).text\n",
    "    if html == \"null\":\n",
    "        if(has_volume):\n",
    "            return volumes['itemid'][2]\n",
    "        else:\n",
    "            return '-1'\n",
    "    volume = [itemid,market_name,json.loads(html)['volume'],str(datetime.date.today())+\"-\"+time.strftime('%H')]\n",
    "    volumes['itemid'] = volume\n",
    "    return volume[2]"
   ]
  },
  {
   "cell_type": "code",
   "execution_count": 13,
   "id": "c8244609",
   "metadata": {},
   "outputs": [],
   "source": [
    "ak_goods = [781649,781656,781666,33912,33911,33913,759234,759341,871340,871099,871478,33935,33937,33936,33859,33861,33860,33969,33971,33970,33972,763469,763311,763250,33868,33870,33869,33871,33975,33882,33945,33947,33946,33907,33906,33961,33960,779257,779194,779196]\n",
    "a4_goods = [35345,35347,769584,769583,769572,35328,35327,45261,45385,45262,35261,35263,35262,857690,857611,857610,35253,35254,35252,35353,35355,35354,35281,35283,35282,781560,781559,781564,835822,835770,835603]\n",
    "a1_goods = [35185,35187,35186,35190,35192,35191,835780,835800,835624,835932,835645,779233,779198,35238,35240,35239,35209,759220,35197,35199,35198,35212,35214,35213,35235,35234]\n",
    "awp_goods = [34066,34067,34065,775601,775550,773715,773720,773698,34102,763243,763400,763332,34095,34097,34096,34070,34078,34080,34088,34090,34089,34126,34125,34073,45247,45248,]\n",
    "boxs = [871092,38150,34987,35895,38148,34989,774681,35086,34369,835343,35883]\n",
    "#len(ak_goods)+len(a4_goods)+len(a1_goods)+len(awp_goods)+len(boxs) = 134\n",
    "#for test\n",
    "# ak_goods = [781649,781656]\n",
    "# a4_goods = [35345,35347]\n",
    "# a1_goods = [35185,35187]\n",
    "# awp_goods = [34066,34067]\n",
    "def clew(goods,ans):\n",
    "    for i in range(len(goods)):\n",
    "        goods_id = str(goods[i])\n",
    "        soup = search(goods_id)\n",
    "        string = str(soup.p)\n",
    "        for j in range(len(string)):\n",
    "            if string[j] == \"{\":\n",
    "                break\n",
    "        start = j\n",
    "        for j in reversed(range(len(string))):\n",
    "            if string[j] == \"}\":\n",
    "                break\n",
    "        end = j+1\n",
    "        dejson = json.loads(str(soup.p)[start:end])\n",
    "        dejson['data']['goods_infos'][goods_id]\n",
    "        name = dejson['data']['goods_infos'][goods_id]['name']\n",
    "        price_buff_mean = np.mean([float(i['price']) for i in dejson['data']['items']])\n",
    "        price_steam = float(dejson['data']['goods_infos'][goods_id]['steam_price_cny'])\n",
    "        money = (price_steam/1.15)-price_buff_mean\n",
    "        ans.append([name,price_buff_mean,price_steam,money,money/price_buff_mean])\n",
    "        time.sleep(random.randint(2,5))\n",
    "    return ans"
   ]
  },
  {
   "cell_type": "code",
   "execution_count": 9,
   "id": "dc5f457d",
   "metadata": {},
   "outputs": [],
   "source": [
    "def takelast(elem):\n",
    "    return elem[-1]"
   ]
  },
  {
   "cell_type": "code",
   "execution_count": 104,
   "id": "dbf88589",
   "metadata": {
    "scrolled": false
   },
   "outputs": [],
   "source": [
    "ans = []\n",
    "ans = clew(ak_goods,ans)\n",
    "ans = clew(a4_goods,ans)\n",
    "ans = clew(a1_goods,ans)\n",
    "ans = clew(awp_goods,ans)\n",
    "ans.sort(key=takelast, reverse=True)\n",
    "ans = pd.DataFrame(columns=[\"饰品名\",\"buff均价\",\"steam市场价\",\"利润\",\"利率\"],data=ans)\n",
    "ans.to_csv(\"buff/\"+str(datetime.date.today())+\"-\"+time.strftime('%H')+\".csv\",encoding='utf-8')"
   ]
  },
  {
   "cell_type": "code",
   "execution_count": 13,
   "id": "8ca9921e",
   "metadata": {},
   "outputs": [
    {
     "name": "stdout",
     "output_type": "stream",
     "text": [
      "[['AK-47 | 阿努比斯军团 (崭新出厂)', 123.696, 178.7, 31.695304347826095, 0.25623548334486235], ['AK-47 | 阿努比斯军团 (略有磨损)', 78.774, 115.32, 21.504260869565215, 0.27298678332400556], ['AK-47 | 阿努比斯军团 (久经沙场)', 59.39000000000001, 88.77, 17.801304347826083, 0.2997357189396545], ['AK-47 | 燃料喷射器 (略有磨损)', 536.4300000000001, 795.73, 155.5091304347826, 0.2898964085431139]]\n"
     ]
    }
   ],
   "source": [
    "print(ans)\n",
    "ans = []"
   ]
  },
  {
   "cell_type": "code",
   "execution_count": 63,
   "id": "e95843a9",
   "metadata": {},
   "outputs": [
    {
     "data": {
      "text/plain": [
       "[['AK-47 | 阿努比斯军团 (崭新出厂)',\n",
       "  117.68800000000002,\n",
       "  159.8,\n",
       "  21.26852173913045,\n",
       "  0.18071954438116414],\n",
       " ['AK-47 | 阿努比斯军团 (略有磨损)',\n",
       "  77.57900000000001,\n",
       "  111.57,\n",
       "  19.438391304347817,\n",
       "  0.25056254017643714],\n",
       " ['AK-47 | 阿努比斯军团 (久经沙场)',\n",
       "  58.83399999999999,\n",
       "  89.32,\n",
       "  18.83556521739132,\n",
       "  0.32014762241886197]]"
      ]
     },
     "execution_count": 63,
     "metadata": {},
     "output_type": "execute_result"
    }
   ],
   "source": [
    "ans"
   ]
  },
  {
   "cell_type": "code",
   "execution_count": 14,
   "id": "50d9ae8b",
   "metadata": {},
   "outputs": [],
   "source": [
    "url = \"https://buff.163.com/api/market/goods/sell_order?game=csgo&goods_id=798055&page_num=1&sort_by=default&mode=&allow_tradable_cooldown=1\"\n",
    "headers={\"Accept\":\"text/html,application/xhtml+xml,application/xml;q=0.9,image/avif,image/webp,image/apng,*/*;q=0.8,application/signed-exchange;v=b3;q=0.9\",\"Accept-Encoding\":\"gzip, deflate, br\",\"Accept-Language\":\"zh-CN,zh;q=0.9\",\"Cache-Control\":\"max-age=0\",\"Connection\":\"keep-alive\",\"Cookie\":\"_ns=NS1.2.1049642886.1623160927; _ntes_nuid=5df6afdb0996c600ed011100d0281097; _ntes_nnid=1389cf205da35139605e9b364882ff49,1623500252458; NTES_CMT_USER_INFO=311781205%7C%E6%9C%89%E6%80%81%E5%BA%A6%E7%BD%91%E5%8F%8B0iBmtl%7Chttp%3A%2F%2Fcms-bucket.nosdn.127.net%2F2018%2F08%2F13%2F078ea9f65d954410b62a52ac773875a1.jpeg%7Cfalse%7CeWQuMDA0MDcwNDQ3OGQwNGM4M2FAMTYzLmNvbQ%3D%3D; UM_distinctid=17a95ce1f59c5-06d7adb5982e07-6373264-1fa400-17a95ce1f5a4b2; _ga_C6TGHFPQ1H=GS1.1.1626794968.1.0.1626794968.0; Device-Id=TY9XKDqfOjQqsZXOfoeh; Locale-Supported=zh-Hans; _ga=GA1.2.915409640.1623760724; NTES_YD_SESS=P7PGcL2rZhC5Ygo8hdbjGun3fGMFhNxqXz5_l_W0Qbc6RJKSWmhaEEkqMiLQQjm3FUJLPXJrJt71K1ece117GdfplaKzAXdBtEqFKvdL4JrAuqadiNKP.iN6VJfCVIx8siOQOtSBLq4sY8w3W.SciVZVDlAFNEyLqKIit4YGEnIbV4.FCCn8CcCjwaQNIt2fVGqaXd5tXPWqNHqKJN0B4HlBp0ZdX.CiKN_QUfmP9.pw5; S_INFO=1632816004|0|0&60##|81-8078317669; P_INFO=81-8078317669|1632816004|1|netease_buff|00&99|null&null&null#JP&null#10#0|&0||81-8078317669; game=csgo; _gid=GA1.2.1572040392.1633964171; session=1-rOsVu91zf2exUtKpgQi4LfykIKplMUdSY00cj3JMdZk52040520166; csrf_token=IjBkYWQ3YTliNDAyZjI3ZGZjMzhkZjkxOTViYzA1MzkwOWU0MTJlMGMi.FEg44g.nc3SC7fvLVaYDNy_ROlQfIddew4\",\"Host\":\"buff.163.com\",\"sec-ch-ua\":\"\\\"Chromium\\\";v=\\\"94\\\", \\\"Google Chrome\\\";v=\\\"94\\\", \\\";Not A Brand\\\";v=\\\"99\\\"\",\"sec-ch-ua-mobile\":\"?0\",\"sec-ch-ua-platform\":\"\\\"Windows\\\"\",\"Sec-Fetch-Dest\":\"document\",\"Sec-Fetch-Mode\":\"navigate\",\"Sec-Fetch-Site\":\"none\",\"Sec-Fetch-User\":\"?1\",\"Upgrade-Insecure-Requests\":\"1\",\"User-Agent\":\"Mozilla/5.0 (Windows NT 10.0; Win64; x64) AppleWebKit/537.36 (KHTML, like Gecko) Chrome/94.0.4606.81 Safari/537.36\"}\n",
    "html = requests.get(url,headers = headers).text\n",
    "soup=BeautifulSoup(html)"
   ]
  },
  {
   "cell_type": "code",
   "execution_count": 11,
   "id": "3385f067",
   "metadata": {},
   "outputs": [],
   "source": [
    "ans = []\n",
    "ans = clew([781649,781656,781666,33912],ans)"
   ]
  },
  {
   "cell_type": "code",
   "execution_count": 15,
   "id": "cc06a32b",
   "metadata": {
    "scrolled": true
   },
   "outputs": [
    {
     "data": {
      "text/plain": [
       "<html><body><p>{\n",
       "  \"code\": \"OK\", \n",
       "  \"data\": {\n",
       "    \"goods_infos\": {}, \n",
       "    \"has_market_stores\": {}, \n",
       "    \"items\": [], \n",
       "    \"page_num\": 1, \n",
       "    \"page_size\": 10, \n",
       "    \"sort_by\": \"price.asc\", \n",
       "    \"total_count\": 0, \n",
       "    \"total_page\": 1, \n",
       "    \"user_infos\": {}\n",
       "  }, \n",
       "  \"msg\": null\n",
       "}\n",
       "</p></body></html>"
      ]
     },
     "execution_count": 15,
     "metadata": {},
     "output_type": "execute_result"
    }
   ],
   "source": [
    "soup"
   ]
  },
  {
   "cell_type": "code",
   "execution_count": null,
   "id": "4b9b30c6",
   "metadata": {},
   "outputs": [],
   "source": []
  }
 ],
 "metadata": {
  "kernelspec": {
   "display_name": "Python 3 (ipykernel)",
   "language": "python",
   "name": "python3"
  },
  "language_info": {
   "codemirror_mode": {
    "name": "ipython",
    "version": 3
   },
   "file_extension": ".py",
   "mimetype": "text/x-python",
   "name": "python",
   "nbconvert_exporter": "python",
   "pygments_lexer": "ipython3",
   "version": "3.9.6"
  }
 },
 "nbformat": 4,
 "nbformat_minor": 5
}
